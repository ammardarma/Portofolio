{
  "nbformat": 4,
  "nbformat_minor": 0,
  "metadata": {
    "kernelspec": {
      "display_name": "Python 3",
      "language": "python",
      "name": "python3"
    },
    "language_info": {
      "codemirror_mode": {
        "name": "ipython",
        "version": 3
      },
      "file_extension": ".py",
      "mimetype": "text/x-python",
      "name": "python",
      "nbconvert_exporter": "python",
      "pygments_lexer": "ipython3",
      "version": "3.6.9"
    },
    "colab": {
      "name": "komputer.ipynb",
      "provenance": [],
      "collapsed_sections": []
    }
  },
  "cells": [
    {
      "cell_type": "markdown",
      "metadata": {
        "id": "N9KoH7JNCZRM"
      },
      "source": [
        "### Overview Dataset\n",
        "\n",
        "\"Data Sensus Penghasilan\". Data ini diambil dari database biro Sensus 1994 oleh Ronny Kohavi dan Barry Becker (Data Mining and Visualization, Silicon Graphics).\n",
        "\n",
        "Data set ini berisikan beberapa kategori sebagai berikut\n",
        "* age\n",
        "* sex\n",
        "* race\n",
        "* education\n",
        "* marital-status\n",
        "* workclass\n",
        "* occupation\n",
        "* relationship\n",
        "* native-country\n",
        "* hours-per-week\n",
        "* capital-loss\n",
        "* capital-gain\n",
        "* fnlwgt"
      ]
    },
    {
      "cell_type": "markdown",
      "metadata": {
        "id": "B2zw-D3iCZRO"
      },
      "source": [
        "# Exploratory Data Analysis (EDA)\n",
        "\n",
        "Pada praktikum ini, Anda akan melihat beberapa contoh Exploratory Data Analysis (EDA) pada data set sensus penghasilan. \n",
        "\n",
        "* [Pengambilan Data](#1)\n",
        "* [Univariate analysis](#2)\n",
        "* [Bivariate analysis](#3)"
      ]
    },
    {
      "cell_type": "markdown",
      "metadata": {
        "id": "6xeQH_r_CZRP"
      },
      "source": [
        "# Instruksi Tugas Praktikum FIKTI dan FTI\n",
        "\n",
        "1. Buat dan jelaskan univariate analysis untuk kategori hours-per-week dan income\n",
        "2. Buat dan jelaskan Bivariate analysis untuk hubungan antara hours-per-week dan income\n"
      ]
    },
    {
      "cell_type": "markdown",
      "metadata": {
        "id": "rRb4g0DaCZRP"
      },
      "source": [
        "<a id=\"1\"></a>\n",
        "\n",
        "# 1. Pengambilan Data:"
      ]
    },
    {
      "cell_type": "markdown",
      "metadata": {
        "id": "7G6hPPVbCZRQ"
      },
      "source": [
        "## 1.1 Import packages"
      ]
    },
    {
      "cell_type": "code",
      "metadata": {
        "id": "3S3tEjw5CZRQ"
      },
      "source": [
        "import numpy as np \n",
        "import pandas as pd \n",
        "import seaborn as sns\n",
        "import matplotlib.pyplot as plt\n",
        "%matplotlib inline\n",
        "import warnings\n",
        "warnings.filterwarnings(\"ignore\")\n",
        "from scipy.stats import ttest_ind, ttest_rel\n",
        "from scipy import stats"
      ],
      "execution_count": 4,
      "outputs": []
    },
    {
      "cell_type": "markdown",
      "metadata": {
        "id": "qT4h6gNhCZRQ"
      },
      "source": [
        "## 1.2 Import data"
      ]
    },
    {
      "cell_type": "code",
      "metadata": {
        "scrolled": false,
        "colab": {
          "base_uri": "https://localhost:8080/",
          "height": 668
        },
        "id": "emrcle8qCZRR",
        "outputId": "dae647fb-082f-415c-9e3a-23b45b2bb135"
      },
      "source": [
        "data = pd.read_csv(\"https://gitlab.com/andreass.bayu/file-directory/-/raw/main/adult.csv\")\n",
        "data.head(10)"
      ],
      "execution_count": 5,
      "outputs": [
        {
          "output_type": "execute_result",
          "data": {
            "text/html": [
              "<div>\n",
              "<style scoped>\n",
              "    .dataframe tbody tr th:only-of-type {\n",
              "        vertical-align: middle;\n",
              "    }\n",
              "\n",
              "    .dataframe tbody tr th {\n",
              "        vertical-align: top;\n",
              "    }\n",
              "\n",
              "    .dataframe thead th {\n",
              "        text-align: right;\n",
              "    }\n",
              "</style>\n",
              "<table border=\"1\" class=\"dataframe\">\n",
              "  <thead>\n",
              "    <tr style=\"text-align: right;\">\n",
              "      <th></th>\n",
              "      <th>age</th>\n",
              "      <th>workclass</th>\n",
              "      <th>fnlwgt</th>\n",
              "      <th>education</th>\n",
              "      <th>educational-num</th>\n",
              "      <th>marital-status</th>\n",
              "      <th>occupation</th>\n",
              "      <th>relationship</th>\n",
              "      <th>race</th>\n",
              "      <th>gender</th>\n",
              "      <th>capital-gain</th>\n",
              "      <th>capital-loss</th>\n",
              "      <th>hours-per-week</th>\n",
              "      <th>native-country</th>\n",
              "      <th>income</th>\n",
              "    </tr>\n",
              "  </thead>\n",
              "  <tbody>\n",
              "    <tr>\n",
              "      <th>0</th>\n",
              "      <td>25</td>\n",
              "      <td>Private</td>\n",
              "      <td>226802</td>\n",
              "      <td>11th</td>\n",
              "      <td>7</td>\n",
              "      <td>Never-married</td>\n",
              "      <td>Machine-op-inspct</td>\n",
              "      <td>Own-child</td>\n",
              "      <td>Black</td>\n",
              "      <td>Male</td>\n",
              "      <td>0</td>\n",
              "      <td>0</td>\n",
              "      <td>40</td>\n",
              "      <td>United-States</td>\n",
              "      <td>&lt;=50K</td>\n",
              "    </tr>\n",
              "    <tr>\n",
              "      <th>1</th>\n",
              "      <td>38</td>\n",
              "      <td>Private</td>\n",
              "      <td>89814</td>\n",
              "      <td>HS-grad</td>\n",
              "      <td>9</td>\n",
              "      <td>Married-civ-spouse</td>\n",
              "      <td>Farming-fishing</td>\n",
              "      <td>Husband</td>\n",
              "      <td>White</td>\n",
              "      <td>Male</td>\n",
              "      <td>0</td>\n",
              "      <td>0</td>\n",
              "      <td>50</td>\n",
              "      <td>United-States</td>\n",
              "      <td>&lt;=50K</td>\n",
              "    </tr>\n",
              "    <tr>\n",
              "      <th>2</th>\n",
              "      <td>28</td>\n",
              "      <td>Local-gov</td>\n",
              "      <td>336951</td>\n",
              "      <td>Assoc-acdm</td>\n",
              "      <td>12</td>\n",
              "      <td>Married-civ-spouse</td>\n",
              "      <td>Protective-serv</td>\n",
              "      <td>Husband</td>\n",
              "      <td>White</td>\n",
              "      <td>Male</td>\n",
              "      <td>0</td>\n",
              "      <td>0</td>\n",
              "      <td>40</td>\n",
              "      <td>United-States</td>\n",
              "      <td>&gt;50K</td>\n",
              "    </tr>\n",
              "    <tr>\n",
              "      <th>3</th>\n",
              "      <td>44</td>\n",
              "      <td>Private</td>\n",
              "      <td>160323</td>\n",
              "      <td>Some-college</td>\n",
              "      <td>10</td>\n",
              "      <td>Married-civ-spouse</td>\n",
              "      <td>Machine-op-inspct</td>\n",
              "      <td>Husband</td>\n",
              "      <td>Black</td>\n",
              "      <td>Male</td>\n",
              "      <td>7688</td>\n",
              "      <td>0</td>\n",
              "      <td>40</td>\n",
              "      <td>United-States</td>\n",
              "      <td>&gt;50K</td>\n",
              "    </tr>\n",
              "    <tr>\n",
              "      <th>4</th>\n",
              "      <td>18</td>\n",
              "      <td>?</td>\n",
              "      <td>103497</td>\n",
              "      <td>Some-college</td>\n",
              "      <td>10</td>\n",
              "      <td>Never-married</td>\n",
              "      <td>?</td>\n",
              "      <td>Own-child</td>\n",
              "      <td>White</td>\n",
              "      <td>Female</td>\n",
              "      <td>0</td>\n",
              "      <td>0</td>\n",
              "      <td>30</td>\n",
              "      <td>United-States</td>\n",
              "      <td>&lt;=50K</td>\n",
              "    </tr>\n",
              "    <tr>\n",
              "      <th>5</th>\n",
              "      <td>34</td>\n",
              "      <td>Private</td>\n",
              "      <td>198693</td>\n",
              "      <td>10th</td>\n",
              "      <td>6</td>\n",
              "      <td>Never-married</td>\n",
              "      <td>Other-service</td>\n",
              "      <td>Not-in-family</td>\n",
              "      <td>White</td>\n",
              "      <td>Male</td>\n",
              "      <td>0</td>\n",
              "      <td>0</td>\n",
              "      <td>30</td>\n",
              "      <td>United-States</td>\n",
              "      <td>&lt;=50K</td>\n",
              "    </tr>\n",
              "    <tr>\n",
              "      <th>6</th>\n",
              "      <td>29</td>\n",
              "      <td>?</td>\n",
              "      <td>227026</td>\n",
              "      <td>HS-grad</td>\n",
              "      <td>9</td>\n",
              "      <td>Never-married</td>\n",
              "      <td>?</td>\n",
              "      <td>Unmarried</td>\n",
              "      <td>Black</td>\n",
              "      <td>Male</td>\n",
              "      <td>0</td>\n",
              "      <td>0</td>\n",
              "      <td>40</td>\n",
              "      <td>United-States</td>\n",
              "      <td>&lt;=50K</td>\n",
              "    </tr>\n",
              "    <tr>\n",
              "      <th>7</th>\n",
              "      <td>63</td>\n",
              "      <td>Self-emp-not-inc</td>\n",
              "      <td>104626</td>\n",
              "      <td>Prof-school</td>\n",
              "      <td>15</td>\n",
              "      <td>Married-civ-spouse</td>\n",
              "      <td>Prof-specialty</td>\n",
              "      <td>Husband</td>\n",
              "      <td>White</td>\n",
              "      <td>Male</td>\n",
              "      <td>3103</td>\n",
              "      <td>0</td>\n",
              "      <td>32</td>\n",
              "      <td>United-States</td>\n",
              "      <td>&gt;50K</td>\n",
              "    </tr>\n",
              "    <tr>\n",
              "      <th>8</th>\n",
              "      <td>24</td>\n",
              "      <td>Private</td>\n",
              "      <td>369667</td>\n",
              "      <td>Some-college</td>\n",
              "      <td>10</td>\n",
              "      <td>Never-married</td>\n",
              "      <td>Other-service</td>\n",
              "      <td>Unmarried</td>\n",
              "      <td>White</td>\n",
              "      <td>Female</td>\n",
              "      <td>0</td>\n",
              "      <td>0</td>\n",
              "      <td>40</td>\n",
              "      <td>United-States</td>\n",
              "      <td>&lt;=50K</td>\n",
              "    </tr>\n",
              "    <tr>\n",
              "      <th>9</th>\n",
              "      <td>55</td>\n",
              "      <td>Private</td>\n",
              "      <td>104996</td>\n",
              "      <td>7th-8th</td>\n",
              "      <td>4</td>\n",
              "      <td>Married-civ-spouse</td>\n",
              "      <td>Craft-repair</td>\n",
              "      <td>Husband</td>\n",
              "      <td>White</td>\n",
              "      <td>Male</td>\n",
              "      <td>0</td>\n",
              "      <td>0</td>\n",
              "      <td>10</td>\n",
              "      <td>United-States</td>\n",
              "      <td>&lt;=50K</td>\n",
              "    </tr>\n",
              "  </tbody>\n",
              "</table>\n",
              "</div>"
            ],
            "text/plain": [
              "   age         workclass  fnlwgt  ... hours-per-week  native-country income\n",
              "0   25           Private  226802  ...             40   United-States  <=50K\n",
              "1   38           Private   89814  ...             50   United-States  <=50K\n",
              "2   28         Local-gov  336951  ...             40   United-States   >50K\n",
              "3   44           Private  160323  ...             40   United-States   >50K\n",
              "4   18                 ?  103497  ...             30   United-States  <=50K\n",
              "5   34           Private  198693  ...             30   United-States  <=50K\n",
              "6   29                 ?  227026  ...             40   United-States  <=50K\n",
              "7   63  Self-emp-not-inc  104626  ...             32   United-States   >50K\n",
              "8   24           Private  369667  ...             40   United-States  <=50K\n",
              "9   55           Private  104996  ...             10   United-States  <=50K\n",
              "\n",
              "[10 rows x 15 columns]"
            ]
          },
          "metadata": {},
          "execution_count": 5
        }
      ]
    },
    {
      "cell_type": "markdown",
      "metadata": {
        "id": "cXBLvJrTCZRS"
      },
      "source": [
        "# 2. EDA"
      ]
    },
    {
      "cell_type": "markdown",
      "metadata": {
        "id": "8oOkIx2fCZRS"
      },
      "source": [
        "## 2.1.Univariate analysis\n",
        "<a id=\"2\"></a>"
      ]
    },
    {
      "cell_type": "markdown",
      "metadata": {
        "id": "F87VTZ0ZCZRS"
      },
      "source": [
        "## 2.1.1 Age"
      ]
    },
    {
      "cell_type": "markdown",
      "metadata": {
        "id": "xR-5csldCZRS"
      },
      "source": [
        "### **i.\tDistribusi**"
      ]
    },
    {
      "cell_type": "code",
      "metadata": {
        "scrolled": false,
        "colab": {
          "base_uri": "https://localhost:8080/",
          "height": 483
        },
        "id": "mwaVrFnJCZRS",
        "outputId": "a054cdef-d884-48b7-971e-a55436c1a6c8"
      },
      "source": [
        "data['age'].hist(figsize=(8,8))\n",
        "plt.show()"
      ],
      "execution_count": 8,
      "outputs": [
        {
          "output_type": "display_data",
          "data": {
            "image/png": "[encoded data removed]",
            "text/plain": [
              "<Figure size 576x576 with 1 Axes>"
            ]
          },
          "metadata": {
            "needs_background": "light"
          }
        }
      ]
    },
    {
      "cell_type": "code",
      "metadata": {
        "colab": {
          "base_uri": "https://localhost:8080/",
          "height": 0
        },
        "id": "4MeKw-5yCZRT",
        "outputId": "cf0ebeb2-5966-4f8d-cdab-1fd3b6e0f597"
      },
      "source": [
        "data[data[\"age\"]>70].shape\n"
      ],
      "execution_count": 11,
      "outputs": [
        {
          "output_type": "execute_result",
          "data": {
            "text/plain": [
              "(868, 15)"
            ]
          },
          "metadata": {},
          "execution_count": 11
        }
      ]
    },
    {
      "cell_type": "markdown",
      "metadata": {
        "id": "BE51zuLCCZRT"
      },
      "source": [
        "### **ii.\tDeskripsi**\n",
        "Histogram di atas menjelaskan bahwa :\n",
        "*  atribut \"usia\" tidak simetris.\n",
        "*  miring ke kanan (Tapi ini baik karena orang dewasa yang lebih muda mendapatkan upah bukan yang lebih tua)\n",
        "*  Usia minimum dan maksimum orang adalah 17 dan 90 tahun.\n",
        "*  Dataset ini memiliki lebih sedikit pengamatan (868) tentang usia orang setelah usia tertentu, yaitu 70 tahun."
      ]
    },
    {
      "cell_type": "markdown",
      "metadata": {
        "id": "AKdudbapCZRT"
      },
      "source": [
        "## 2.1.2 Income"
      ]
    },
    {
      "cell_type": "markdown",
      "metadata": {
        "id": "Z9Mk0PBrCZRT"
      },
      "source": [
        "### **i. Distribusi**"
      ]
    },
    {
      "cell_type": "code",
      "metadata": {
        "colab": {
          "base_uri": "https://localhost:8080/",
          "height": 442
        },
        "id": "tHtVGvykCZRT",
        "outputId": "1192ad5e-4548-46ac-c89b-068c5fe7ca93"
      },
      "source": [
        "plt.figure(figsize=(7,7))\n",
        "total = float(len(data) )\n",
        "\n",
        "ax = sns.countplot(x=\"income\", data=data)\n",
        "for p in ax.patches:\n",
        "    height = p.get_height()\n",
        "    ax.text(p.get_x()+p.get_width()/2.,\n",
        "            height + 3,\n",
        "            '{:1.2f}'.format((height/total)*100),\n",
        "            ha=\"center\") \n",
        "plt.show()"
      ],
      "execution_count": 13,
      "outputs": [
        {
          "output_type": "display_data",
          "data": {
            "image/png": "[encoded data removed]",
            "text/plain": [
              "<Figure size 504x504 with 1 Axes>"
            ]
          },
          "metadata": {
            "needs_background": "light"
          }
        }
      ]
    },
    {
      "cell_type": "markdown",
      "metadata": {
        "id": "V9OLFYJ2CZRT"
      },
      "source": [
        "### **ii. Deskripsi**\n",
        "Distribusi di atas menjelaskan bahwa :\n",
        "* **Dataset ini tidak seimbang, yaitu 23,93% di antaranya termasuk dalam kelompok pendapatan 1 (yang berpenghasilan lebih dari \\\\$50K) dan 76% termasuk dalam kelompok pendapatan 0 (yang berpenghasilan kurang dari \\\\$50K).**"
      ]
    },
    {
      "cell_type": "markdown",
      "metadata": {
        "id": "_V1gALplCZRU"
      },
      "source": [
        "<a id=\"3\"></a>\n",
        "# 2.2.Bivariate analysis"
      ]
    },
    {
      "cell_type": "markdown",
      "metadata": {
        "id": "66sI5g-QCZRU"
      },
      "source": [
        "## 2.2.1 Age - income (Hubungan)"
      ]
    },
    {
      "cell_type": "markdown",
      "metadata": {
        "id": "JhnktOlhCZRU"
      },
      "source": [
        "### i. **Boxplot**"
      ]
    },
    {
      "cell_type": "code",
      "metadata": {
        "colab": {
          "base_uri": "https://localhost:8080/",
          "height": 606
        },
        "id": "zW2vPwRTCZRU",
        "outputId": "e66da363-3a25-4401-a3c1-47c203cb7dba"
      },
      "source": [
        "fig = plt.figure(figsize=(10,10)) \n",
        "sns.boxplot(x=\"income\", y=\"age\", data=data)\n",
        "plt.show()"
      ],
      "execution_count": 14,
      "outputs": [
        {
          "output_type": "display_data",
          "data": {
            "image/png": "[encoded data removed]",
            "text/plain": [
              "<Figure size 720x720 with 1 Axes>"
            ]
          },
          "metadata": {
            "needs_background": "light"
          }
        }
      ]
    },
    {
      "cell_type": "code",
      "metadata": {
        "colab": {
          "base_uri": "https://localhost:8080/",
          "height": 111
        },
        "id": "unRZCINECZRU",
        "outputId": "c4d899e0-8708-4c78-e611-bb4272452498"
      },
      "source": [
        "data[['income', 'age']].groupby(['income'], as_index=False).mean().sort_values(by='age', ascending=False)"
      ],
      "execution_count": 15,
      "outputs": [
        {
          "output_type": "execute_result",
          "data": {
            "text/html": [
              "<div>\n",
              "<style scoped>\n",
              "    .dataframe tbody tr th:only-of-type {\n",
              "        vertical-align: middle;\n",
              "    }\n",
              "\n",
              "    .dataframe tbody tr th {\n",
              "        vertical-align: top;\n",
              "    }\n",
              "\n",
              "    .dataframe thead th {\n",
              "        text-align: right;\n",
              "    }\n",
              "</style>\n",
              "<table border=\"1\" class=\"dataframe\">\n",
              "  <thead>\n",
              "    <tr style=\"text-align: right;\">\n",
              "      <th></th>\n",
              "      <th>income</th>\n",
              "      <th>age</th>\n",
              "    </tr>\n",
              "  </thead>\n",
              "  <tbody>\n",
              "    <tr>\n",
              "      <th>1</th>\n",
              "      <td>&gt;50K</td>\n",
              "      <td>44.275178</td>\n",
              "    </tr>\n",
              "    <tr>\n",
              "      <th>0</th>\n",
              "      <td>&lt;=50K</td>\n",
              "      <td>36.872184</td>\n",
              "    </tr>\n",
              "  </tbody>\n",
              "</table>\n",
              "</div>"
            ],
            "text/plain": [
              "  income        age\n",
              "1   >50K  44.275178\n",
              "0  <=50K  36.872184"
            ]
          },
          "metadata": {},
          "execution_count": 15
        }
      ]
    },
    {
      "cell_type": "markdown",
      "metadata": {
        "id": "ciif64WKCZRV"
      },
      "source": [
        "### ii. Deskripsi\n",
        "Bivariate boxplot di atas menjelaskan bahwa :\n",
        "* Rata-rata \"usia\" untuk kelompok Penghasilan (<= \\\\$50K) adalah 36,8 tahun. Dan untuk kelompok Penghasilan (> \\\\$50K) adalah 44,2 tahun\n",
        "* Kelompok pendapatan(<=50K) memiliki median \"usia\"(34 tahun) lebih rendah daripada kelompok Pendapatan(>50K) yang memiliki median \"usia\"(42 tahun)."
      ]
    },
    {
      "cell_type": "markdown",
      "metadata": {
        "id": "lu8PmQ61CZRV"
      },
      "source": [
        "### iii. Uji Hipotesis (untuk menguji hubungan antara Age & Income )\n",
        "**Two sampled T-test** :-Uji Independent Samples t Test atau 2-sample t-test membandingkan rata-rata dua kelompok independen untuk menentukan apakah ada bukti statistik bahwa rata-rata populasi terkait berbeda secara signifikan.\n"
      ]
    },
    {
      "cell_type": "markdown",
      "metadata": {
        "id": "JieJKOYxCZRV"
      },
      "source": [
        "Contoh : apakah ada hubungan antara usia dan pendapatan?"
      ]
    },
    {
      "cell_type": "markdown",
      "metadata": {
        "id": "-w3CeLF0CZRW"
      },
      "source": [
        "Tentukan null dan alternate hypothesis.\n",
        "\n",
        "    Secara umum, null hypothesis akan menyatakan bahwa kedua populasi yang diuji tidak memiliki perbedaan yang signifikan secara statistik.\n",
        "    alternate hypothesis akan menyatakan bahwa ada perbedaan."
      ]
    },
    {
      "cell_type": "markdown",
      "metadata": {
        "id": "FYrwpv0JCZRW"
      },
      "source": [
        "Dalam contoh ini kita dapat mengatakan bahwa:\n",
        "*  Null Hypothesis :- tidak ada perbedaan Rerata usia kelompok pendapatan >50k dan kelompok pendapatan <=50k.\n",
        "*  Alternate Hypothesis :- ada perbedaan Rerata usia kelompok pendapatan >50k dan kelompok pendapatan <=50k."
      ]
    },
    {
      "cell_type": "code",
      "metadata": {
        "id": "xJDdsxp8CZRW"
      },
      "source": [
        "import random\n",
        "\n",
        "data = data[(np.abs(stats.zscore(data[\"age\"])) < 3)] \n",
        "\n",
        "income_1 = data[data['income']=='<=50K']['age']\n",
        "income_0 = data[data['income']=='>50K']['age']\n",
        "\n",
        "income_0 = income_0.values.tolist()\n",
        "income_0 = random.sample(income_0, 100)\n",
        "income_1 = income_1.values.tolist()\n",
        "income_1 = random.sample(income_1, 100)\n"
      ],
      "execution_count": 16,
      "outputs": []
    },
    {
      "cell_type": "code",
      "metadata": {
        "colab": {
          "base_uri": "https://localhost:8080/",
          "height": 0
        },
        "id": "7-C1895HCZRW",
        "outputId": "4566d44c-d3c3-4573-916d-287b34408605"
      },
      "source": [
        "from scipy.stats import ttest_ind\n",
        "ttest,pval = ttest_ind(income_1,income_0,equal_var = False)\n",
        "print(\"ttest\",ttest)\n",
        "print('p value',pval)\n",
        "\n",
        "\n",
        "if pval <0.05:\n",
        "    print(\"null hypothesis ditolak\")\n",
        "else:\n",
        "    print(\"null hypothesis diterima\")"
      ],
      "execution_count": 18,
      "outputs": [
        {
          "output_type": "stream",
          "name": "stdout",
          "text": [
            "ttest -2.955903320766914\n",
            "p value 0.0035346610506250173\n",
            "null hypothesis ditolak\n"
          ]
        }
      ]
    },
    {
      "cell_type": "markdown",
      "metadata": {
        "id": "H8lNXM8oCZRW"
      },
      "source": [
        "### iv. Kesimpulan akhir"
      ]
    },
    {
      "cell_type": "markdown",
      "metadata": {
        "id": "tKCoh45fCZRW"
      },
      "source": [
        "Menggunakan analisis statistik,\n",
        "\n",
        "    Dapat disimpulkan bahwa terdapat perbedaan yang signifikan pada rerata usia kelompok berpenghasilan >50K dan kelompok berpenghasilan <=50K.\n",
        "    Hal Ini membuktikan bahwa usia memiliki peranan dalam membedakan kelompok pendapatan."
      ]
    },
    {
      "cell_type": "markdown",
      "metadata": {
        "id": "v-o6xczzCZRX"
      },
      "source": [
        "# Tugas"
      ]
    },
    {
      "cell_type": "markdown",
      "metadata": {
        "id": "xiFjf0dbCZRX"
      },
      "source": [
        "## 1. Univariate analysis"
      ]
    },
    {
      "cell_type": "markdown",
      "metadata": {
        "id": "pAtW0dCkCZRX"
      },
      "source": [
        "## 1.1 hours-per-week"
      ]
    },
    {
      "cell_type": "markdown",
      "metadata": {
        "id": "xNi7T-HcCZRX"
      },
      "source": [
        "### **i.\tDistribusi**"
      ]
    },
    {
      "cell_type": "code",
      "metadata": {
        "colab": {
          "base_uri": "https://localhost:8080/",
          "height": 483
        },
        "id": "6H8gWglGCZRX",
        "outputId": "90b26152-02a5-40ac-d9c2-ac28501b2f68"
      },
      "source": [
        "import numpy as np \n",
        "import pandas as pd \n",
        "import seaborn as sns\n",
        "import matplotlib.pyplot as plt\n",
        "%matplotlib inline\n",
        "import warnings\n",
        "warnings.filterwarnings(\"ignore\")\n",
        "from scipy.stats import ttest_ind, ttest_rel\n",
        "from scipy import stats\n",
        "\n",
        "data = pd.read_csv(\"https://gitlab.com/andreass.bayu/file-directory/-/raw/main/adult.csv\")\n",
        "data.head(10)\n",
        "\n",
        "# Buat diagram hours-per-week\n",
        "data['hours-per-week'].hist(figsize=(8,8))\n",
        "plt.show()"
      ],
      "execution_count": 19,
      "outputs": [
        {
          "output_type": "display_data",
          "data": {
            "image/png": "[encoded data removed]",
            "text/plain": [
              "<Figure size 576x576 with 1 Axes>"
            ]
          },
          "metadata": {
            "needs_background": "light"
          }
        }
      ]
    },
    {
      "cell_type": "code",
      "metadata": {
        "colab": {
          "base_uri": "https://localhost:8080/",
          "height": 0
        },
        "id": "nWhLqyrmCZRX",
        "outputId": "478fad96-8144-4a61-bf28-b28d5a5b7f0d"
      },
      "source": [
        "data[data[\"hours-per-week\"]>30].shape"
      ],
      "execution_count": 20,
      "outputs": [
        {
          "output_type": "execute_result",
          "data": {
            "text/plain": [
              "(40991, 15)"
            ]
          },
          "metadata": {},
          "execution_count": 20
        }
      ]
    },
    {
      "cell_type": "markdown",
      "metadata": {
        "id": "q5rCV2_sCZRY"
      },
      "source": [
        "### **ii. Deskripsi**\n"
      ]
    },
    {
      "cell_type": "markdown",
      "metadata": {
        "id": "J_VqV6YfG8g2"
      },
      "source": [
        "# Jelaskan hasil diagram tersebut\n",
        "Histogram di atas menjelaskan bahwa :\n",
        "\n",
        "atribut \"hours-per-week\" tidak simetris.\n",
        "memuncak di tengah (karena jam kerja setiap orang tidak selalu sama, namun rata-rata berada pada lebih dari 30 jam.)\n",
        "Untuk yang bekerja lebih dari 30 jam sebanyak 40991 data. "
      ]
    },
    {
      "cell_type": "markdown",
      "metadata": {
        "id": "Nqf3gEq8CZRY"
      },
      "source": [
        "## 1.2 Income"
      ]
    },
    {
      "cell_type": "markdown",
      "metadata": {
        "id": "YQq3OvmNCZRY"
      },
      "source": [
        "### **i.\tDistribusi**"
      ]
    },
    {
      "cell_type": "code",
      "metadata": {
        "colab": {
          "base_uri": "https://localhost:8080/",
          "height": 442
        },
        "id": "rdhOJTF9CZRY",
        "outputId": "0e291b94-ce44-4bbd-9f09-bf17fb56a33b"
      },
      "source": [
        "plt.figure(figsize=(7,7))\n",
        "total = float(len(data) )\n",
        "\n",
        "ax = sns.countplot(x=\"income\", data=data)\n",
        "for p in ax.patches:\n",
        "    height = p.get_height()\n",
        "    ax.text(p.get_x()+p.get_width()/2.,\n",
        "            height + 3,\n",
        "            '{:1.2f}'.format((height/total)*100),\n",
        "            ha=\"center\") \n",
        "plt.show()\n",
        "# Buat diagram income"
      ],
      "execution_count": 21,
      "outputs": [
        {
          "output_type": "display_data",
          "data": {
            "image/png": "[encoded data removed]",
            "text/plain": [
              "<Figure size 504x504 with 1 Axes>"
            ]
          },
          "metadata": {
            "needs_background": "light"
          }
        }
      ]
    },
    {
      "cell_type": "markdown",
      "metadata": {
        "id": "atGhkwtOCZRY"
      },
      "source": [
        "### **ii. Deskripsi**"
      ]
    },
    {
      "cell_type": "code",
      "metadata": {
        "id": "z0jBMybLCZRY"
      },
      "source": [
        "# Jelaskan hasil diagram tersebut\n",
        "Distribusi di atas menjelaskan bahwa :\n",
        "\n",
        "Dataset ini tidak seimbang, yaitu 23,93% di antaranya termasuk dalam kelompok pendapatan 1 (yang berpenghasilan lebih dari $50K) dan 76.07% termasuk dalam kelompok pendapatan 0 (yang berpenghasilan kurang dari $50K)."
      ],
      "execution_count": null,
      "outputs": []
    },
    {
      "cell_type": "markdown",
      "metadata": {
        "id": "7hbeFeQYCZRZ"
      },
      "source": [
        "# 2. Bivariate analysis"
      ]
    },
    {
      "cell_type": "markdown",
      "metadata": {
        "id": "tVZBcVggCZRZ"
      },
      "source": [
        "## 2.1 hours-per-week - income (Hubungan)"
      ]
    },
    {
      "cell_type": "code",
      "metadata": {
        "scrolled": false,
        "colab": {
          "base_uri": "https://localhost:8080/",
          "height": 606
        },
        "id": "AcduVjuoCZRZ",
        "outputId": "e694d072-9627-4603-b037-adc06eb1e22b"
      },
      "source": [
        "fig = plt.figure(figsize=(10,10)) \n",
        "sns.boxplot(x=\"hours-per-week\", y=\"income\", data=data)\n",
        "plt.show()\n",
        "# Buat diagram, hubungan hours-per-week dengan income"
      ],
      "execution_count": 22,
      "outputs": [
        {
          "output_type": "display_data",
          "data": {
            "image/png": "[encoded data removed]",
            "text/plain": [
              "<Figure size 720x720 with 1 Axes>"
            ]
          },
          "metadata": {
            "needs_background": "light"
          }
        }
      ]
    },
    {
      "cell_type": "code",
      "metadata": {
        "colab": {
          "base_uri": "https://localhost:8080/",
          "height": 111
        },
        "id": "aRpD4RipCZRZ",
        "outputId": "9bb48d44-b9d5-4d09-93e3-79f76b58dd00"
      },
      "source": [
        "data[['income', 'hours-per-week']].groupby(['income'], as_index=False).mean().sort_values(by='hours-per-week', ascending=False)"
      ],
      "execution_count": 23,
      "outputs": [
        {
          "output_type": "execute_result",
          "data": {
            "text/html": [
              "<div>\n",
              "<style scoped>\n",
              "    .dataframe tbody tr th:only-of-type {\n",
              "        vertical-align: middle;\n",
              "    }\n",
              "\n",
              "    .dataframe tbody tr th {\n",
              "        vertical-align: top;\n",
              "    }\n",
              "\n",
              "    .dataframe thead th {\n",
              "        text-align: right;\n",
              "    }\n",
              "</style>\n",
              "<table border=\"1\" class=\"dataframe\">\n",
              "  <thead>\n",
              "    <tr style=\"text-align: right;\">\n",
              "      <th></th>\n",
              "      <th>income</th>\n",
              "      <th>hours-per-week</th>\n",
              "    </tr>\n",
              "  </thead>\n",
              "  <tbody>\n",
              "    <tr>\n",
              "      <th>1</th>\n",
              "      <td>&gt;50K</td>\n",
              "      <td>45.452896</td>\n",
              "    </tr>\n",
              "    <tr>\n",
              "      <th>0</th>\n",
              "      <td>&lt;=50K</td>\n",
              "      <td>38.840048</td>\n",
              "    </tr>\n",
              "  </tbody>\n",
              "</table>\n",
              "</div>"
            ],
            "text/plain": [
              "  income  hours-per-week\n",
              "1   >50K       45.452896\n",
              "0  <=50K       38.840048"
            ]
          },
          "metadata": {},
          "execution_count": 23
        }
      ]
    },
    {
      "cell_type": "markdown",
      "metadata": {
        "id": "_L6J5BWuCZRZ"
      },
      "source": [
        "### ii. Deskripsi\n",
        "\n",
        "   "
      ]
    },
    {
      "cell_type": "markdown",
      "metadata": {
        "id": "LdXelhXpIm9Z"
      },
      "source": [
        "Null Hypothesis :- tidak ada perbedaan Rerata kelompok pendapatan >50k dan kelompok pendapatan <=50k.\\n\",\n",
        "    \"    Alternate Hypothesis :- ada perbedaan Rerata kelompok pendapatan >50k dan kelompok pendapatan <=50k.\""
      ]
    },
    {
      "cell_type": "markdown",
      "metadata": {
        "id": "VNmKPffzIthR"
      },
      "source": [
        ""
      ]
    },
    {
      "cell_type": "markdown",
      "metadata": {
        "id": "Lf77AmU1CZRZ"
      },
      "source": [
        "### iii. Uji Hipotesis (untuk menguji hubungan antara hours-per-week & Income )\n",
        "Dalam contoh ini kita dapat mengatakan bahwa:\n",
        "\n",
        "    Null Hypothesis :- tidak ada perbedaan jumlah jam kerja per minggu Rerata kelompok pendapatan >50k dan kelompok pendapatan <=50k.\n",
        "    Alternate Hypothesis :- ada perbedaan jumlah jam kerja per minggu Rerata kelompok pendapatan >50k dan kelompok pendapatan <=50k."
      ]
    },
    {
      "cell_type": "code",
      "metadata": {
        "colab": {
          "base_uri": "https://localhost:8080/",
          "height": 0
        },
        "id": "2MfshoNeCZRa",
        "outputId": "c6952f0c-67a0-4cb7-8979-65dfcb654383"
      },
      "source": [
        "import random\n",
        "\n",
        "data = data[(np.abs(stats.zscore(data[\"hours-per-week\"])) < 3)] \n",
        "\n",
        "income_1 = data[data['income']=='<=50K']['hours-per-week']\n",
        "income_0 = data[data['income']=='>50K']['hours-per-week']\n",
        "\n",
        "income_0 = income_0.values.tolist()\n",
        "income_0 = random.sample(income_0, 100)\n",
        "income_1 = income_1.values.tolist()\n",
        "income_1 = random.sample(income_1, 100)\n",
        "\n",
        "from scipy.stats import ttest_ind\n",
        "ttest,pval = ttest_ind(income_1,income_0,equal_var = False)\n",
        "print(\"ttest\",ttest)\n",
        "print('p value',pval)\n",
        "\n",
        "\n",
        "if pval <0.05:\n",
        "    print(\"null hypothesis ditolak\")\n",
        "else:\n",
        "    print(\"null hypothesis diterima\")\n",
        "# Buat uji hipotesis untuk menentukan null atau alternate hypothesis"
      ],
      "execution_count": 24,
      "outputs": [
        {
          "output_type": "stream",
          "name": "stdout",
          "text": [
            "ttest -5.771339388469999\n",
            "p value 3.077069460512072e-08\n",
            "null hypothesis ditolak\n"
          ]
        }
      ]
    },
    {
      "cell_type": "markdown",
      "metadata": {
        "id": "b6mgQe3lCZRa"
      },
      "source": [
        "### iv. Kesimpulan akhir\n"
      ]
    },
    {
      "cell_type": "markdown",
      "metadata": {
        "id": "D8KGj9T0JYqB"
      },
      "source": [
        "# Berikan kesimpulan\n",
        "Dapat disimpulkan bahwa terdapat perbedaan yang signifikan pada rerata jam kerja per minggu kelompok berpenghasilan >50K dan kelompok berpenghasilan <=50K.\n",
        "Hal Ini membuktikan bahwa hours-per-week memiliki peranan dalam membedakan kelompok pendapatan."
      ]
    }
  ]
}